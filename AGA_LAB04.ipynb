{
  "nbformat": 4,
  "nbformat_minor": 0,
  "metadata": {
    "colab": {
      "provenance": []
    },
    "kernelspec": {
      "name": "python3",
      "display_name": "Python 3"
    },
    "language_info": {
      "name": "python"
    }
  },
  "cells": [
    {
      "cell_type": "markdown",
      "source": [
        "**Restricted Boltzmann Machine (RBM)**"
      ],
      "metadata": {
        "id": "E0SRIpYuRQfp"
      }
    },
    {
      "cell_type": "code",
      "execution_count": 2,
      "metadata": {
        "colab": {
          "base_uri": "https://localhost:8080/"
        },
        "id": "SL5fXV7qPMu3",
        "outputId": "23bb9d7a-37c3-4184-9639-5bccfc63c1ab"
      },
      "outputs": [
        {
          "output_type": "stream",
          "name": "stdout",
          "text": [
            "Epoch 0: Reconstruction Error = 0.4667\n",
            "Epoch 100: Reconstruction Error = 0.4667\n",
            "Epoch 200: Reconstruction Error = 0.4333\n",
            "Epoch 300: Reconstruction Error = 0.4833\n",
            "Epoch 400: Reconstruction Error = 0.4500\n",
            "Epoch 500: Reconstruction Error = 0.5000\n",
            "Epoch 600: Reconstruction Error = 0.4167\n",
            "Epoch 700: Reconstruction Error = 0.2833\n",
            "Epoch 800: Reconstruction Error = 0.4167\n",
            "Epoch 900: Reconstruction Error = 0.3500\n",
            "Original Data:\n",
            "[[1. 0. 0. 0. 0. 0.]\n",
            " [1. 1. 1. 0. 1. 0.]\n",
            " [1. 1. 1. 0. 0. 0.]\n",
            " [1. 1. 0. 0. 0. 1.]\n",
            " [0. 0. 0. 1. 0. 0.]\n",
            " [0. 1. 1. 0. 0. 0.]\n",
            " [1. 0. 1. 0. 1. 1.]\n",
            " [0. 1. 0. 1. 1. 0.]\n",
            " [1. 1. 0. 1. 1. 1.]\n",
            " [0. 0. 1. 0. 1. 1.]]\n",
            "Reconstructed Data:\n",
            "[[0.64288554 0.58918405 0.57280918 0.21632389 0.51490885 0.39738028]\n",
            " [0.6838922  0.58993787 0.65251622 0.14387568 0.48855627 0.39095798]\n",
            " [0.69969893 0.59117019 0.68374492 0.11983257 0.47510002 0.38553113]\n",
            " [0.63813179 0.58840836 0.56260231 0.22727779 0.51998261 0.40024995]\n",
            " [0.52310204 0.58616933 0.34980497 0.51543784 0.58814291 0.41804995]\n",
            " [0.67153645 0.59054773 0.62970634 0.16250727 0.4941981  0.39044116]\n",
            " [0.67816564 0.58848569 0.63982718 0.1547386  0.49629446 0.39587554]\n",
            " [0.51129543 0.58559909 0.32990317 0.54831532 0.59586219 0.42097523]\n",
            " [0.53020583 0.58529719 0.36054474 0.49889522 0.58704425 0.42007383]\n",
            " [0.64634892 0.58769984 0.5775371  0.21230537 0.51739321 0.40156852]]\n"
          ]
        }
      ],
      "source": [
        "import numpy as np\n",
        "\n",
        "class RBM:\n",
        "    def __init__(self, visible_units, hidden_units, learning_rate=0.1, epochs=1000):\n",
        "        self.visible_units = visible_units\n",
        "        self.hidden_units = hidden_units\n",
        "        self.learning_rate = learning_rate\n",
        "        self.epochs = epochs\n",
        "\n",
        "        # Initialize weights and biases\n",
        "        self.weights = np.random.normal(0, 0.01, (self.visible_units, self.hidden_units))\n",
        "        self.hidden_bias = np.zeros((1, self.hidden_units))\n",
        "        self.visible_bias = np.zeros((1, self.visible_units))\n",
        "\n",
        "    def sigmoid(self, x):\n",
        "        return 1 / (1 + np.exp(-x))\n",
        "\n",
        "    def sample(self, probabilities):\n",
        "        return (np.random.rand(*probabilities.shape) < probabilities).astype(np.float32)\n",
        "\n",
        "    def train(self, data):\n",
        "        for epoch in range(self.epochs):\n",
        "            # Positive phase\n",
        "            pos_hidden_probs = self.sigmoid(np.dot(data, self.weights) + self.hidden_bias)\n",
        "            pos_hidden_states = self.sample(pos_hidden_probs)\n",
        "            pos_associations = np.dot(data.T, pos_hidden_probs)\n",
        "\n",
        "            # Negative phase\n",
        "            neg_visible_probs = self.sigmoid(np.dot(pos_hidden_states, self.weights.T) + self.visible_bias)\n",
        "            neg_visible_states = self.sample(neg_visible_probs)\n",
        "            neg_hidden_probs = self.sigmoid(np.dot(neg_visible_states, self.weights) + self.hidden_bias)\n",
        "            neg_associations = np.dot(neg_visible_states.T, neg_hidden_probs)\n",
        "\n",
        "            # Update weights and biases\n",
        "            self.weights += self.learning_rate * ((pos_associations - neg_associations) / data.shape[0])\n",
        "            self.visible_bias += self.learning_rate * np.mean(data - neg_visible_states, axis=0, keepdims=True)\n",
        "            self.hidden_bias += self.learning_rate * np.mean(pos_hidden_probs - neg_hidden_probs, axis=0, keepdims=True)\n",
        "\n",
        "            if epoch % 100 == 0:\n",
        "                error = np.mean((data - neg_visible_states) ** 2)\n",
        "                print(f\"Epoch {epoch}: Reconstruction Error = {error:.4f}\")\n",
        "\n",
        "    def transform(self, data):\n",
        "        return self.sigmoid(np.dot(data, self.weights) + self.hidden_bias)\n",
        "\n",
        "    def reconstruct(self, data):\n",
        "        hidden = self.transform(data)\n",
        "        return self.sigmoid(np.dot(hidden, self.weights.T) + self.visible_bias)\n",
        "\n",
        "\n",
        "# Example Usage\n",
        "if __name__ == \"__main__\":\n",
        "    # Generate dummy data: 10 samples, 6 features\n",
        "    data = np.random.randint(0, 2, (10, 6)).astype(np.float32)\n",
        "\n",
        "    rbm = RBM(visible_units=6, hidden_units=3, learning_rate=0.1, epochs=1000)\n",
        "    rbm.train(data)\n",
        "\n",
        "    print(\"Original Data:\")\n",
        "    print(data)\n",
        "\n",
        "    print(\"Reconstructed Data:\")\n",
        "    print(rbm.reconstruct(data))\n"
      ]
    }
  ]
}