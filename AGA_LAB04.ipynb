{
  "nbformat": 4,
  "nbformat_minor": 0,
  "metadata": {
    "colab": {
      "provenance": [],
      "gpuType": "T4"
    },
    "kernelspec": {
      "name": "python3",
      "display_name": "Python 3"
    },
    "language_info": {
      "name": "python"
    },
    "accelerator": "GPU"
  },
  "cells": [
    {
      "cell_type": "markdown",
      "source": [
        "**Restricted Boltzmann Machine (RBM)**"
      ],
      "metadata": {
        "id": "E0SRIpYuRQfp"
      }
    },
    {
      "cell_type": "code",
      "execution_count": 1,
      "metadata": {
        "colab": {
          "base_uri": "https://localhost:8080/"
        },
        "id": "SL5fXV7qPMu3",
        "outputId": "9740f8ab-f4ad-4ac0-a9fe-e06afc2207e1"
      },
      "outputs": [
        {
          "output_type": "stream",
          "name": "stdout",
          "text": [
            "Epoch 1, Loss: 0.0133\n",
            "Epoch 2, Loss: 0.0133\n",
            "Epoch 3, Loss: 0.0133\n",
            "Epoch 4, Loss: 0.0133\n",
            "Epoch 5, Loss: 0.0133\n",
            "Epoch 6, Loss: 0.0133\n",
            "Epoch 7, Loss: 0.0133\n",
            "Epoch 8, Loss: 0.0133\n",
            "Epoch 9, Loss: 0.0133\n",
            "Epoch 10, Loss: 0.0133\n"
          ]
        }
      ],
      "source": [
        "import numpy as np\n",
        "import tensorflow as tf\n",
        "from sklearn.datasets import fetch_openml\n",
        "from sklearn.preprocessing import MinMaxScaler\n",
        "from sklearn.model_selection import train_test_split\n",
        "from sklearn.linear_model import LogisticRegression\n",
        "from sklearn.metrics import accuracy_score\n",
        "import matplotlib.pyplot as plt\n",
        "\n",
        "# Load MNIST dataset\n",
        "mnist = fetch_openml('mnist_784', version=1)\n",
        "X, y = mnist.data.astype(np.float32), mnist.target.astype(np.int64)\n",
        "\n",
        "# Normalize data\n",
        "scaler = MinMaxScaler()\n",
        "X = scaler.fit_transform(X)\n",
        "\n",
        "# Split dataset into training and testing sets\n",
        "X_train, X_test, y_train, y_test = train_test_split(X, y, test_size=0.2, random_state=42)\n",
        "\n",
        "class RBM:\n",
        "    def __init__(self, visible_units, hidden_units, learning_rate=0.01, epochs=10, batch_size=64):\n",
        "        self.visible_units = visible_units\n",
        "        self.hidden_units = hidden_units\n",
        "        self.learning_rate = learning_rate\n",
        "        self.epochs = epochs\n",
        "        self.batch_size = batch_size\n",
        "\n",
        "        # Initialize weights and biases\n",
        "        self.weights = tf.Variable(tf.random.normal([self.visible_units, self.hidden_units], stddev=0.01))\n",
        "        self.hidden_bias = tf.Variable(tf.zeros([self.hidden_units]))\n",
        "        self.visible_bias = tf.Variable(tf.zeros([self.visible_units]))\n",
        "\n",
        "    def sigmoid(self, x):\n",
        "        return tf.nn.sigmoid(x)\n",
        "\n",
        "    def sample(self, probabilities):\n",
        "        return tf.nn.relu(tf.sign(probabilities - tf.random.uniform(tf.shape(probabilities))))\n",
        "\n",
        "    def forward(self, v):\n",
        "        h_prob = self.sigmoid(tf.matmul(v, self.weights) + self.hidden_bias)\n",
        "        h_sample = self.sample(h_prob)\n",
        "        return h_prob, h_sample\n",
        "\n",
        "    def backward(self, h):\n",
        "        v_prob = self.sigmoid(tf.matmul(h, tf.transpose(self.weights)) + self.visible_bias)\n",
        "        return v_prob\n",
        "\n",
        "    def train(self, data):\n",
        "        dataset = tf.data.Dataset.from_tensor_slices(data).batch(self.batch_size)\n",
        "\n",
        "        optimizer = tf.optimizers.Adam(self.learning_rate)\n",
        "\n",
        "        for epoch in range(self.epochs):\n",
        "            total_loss = 0\n",
        "            for batch in dataset:\n",
        "                with tf.GradientTape() as tape:\n",
        "                    # Positive phase\n",
        "                    h_prob, h_sample = self.forward(batch)\n",
        "                    pos_associations = tf.matmul(tf.transpose(batch), h_prob)\n",
        "\n",
        "                    # Negative phase\n",
        "                    v_reconstructed = self.backward(h_sample)\n",
        "                    h_reconstructed, _ = self.forward(v_reconstructed)\n",
        "                    neg_associations = tf.matmul(tf.transpose(v_reconstructed), h_reconstructed)\n",
        "\n",
        "                    # Compute gradients\n",
        "                    weight_gradient = (pos_associations - neg_associations) / self.batch_size\n",
        "                    visible_bias_gradient = tf.reduce_mean(batch - v_reconstructed, axis=0)\n",
        "                    hidden_bias_gradient = tf.reduce_mean(h_prob - h_reconstructed, axis=0)\n",
        "\n",
        "                    loss = tf.reduce_mean(tf.square(batch - v_reconstructed))\n",
        "                    total_loss += loss.numpy()\n",
        "\n",
        "                # Update weights and biases\n",
        "                gradients = [weight_gradient, hidden_bias_gradient, visible_bias_gradient]\n",
        "                optimizer.apply_gradients(zip(gradients, [self.weights, self.hidden_bias, self.visible_bias]))\n",
        "\n",
        "            print(f\"Epoch {epoch + 1}, Loss: {total_loss / len(data):.4f}\")\n",
        "\n",
        "    def transform(self, data):\n",
        "        h_prob, _ = self.forward(data)\n",
        "        return h_prob.numpy()\n",
        "\n",
        "# Initialize and train the RBM\n",
        "rbm = RBM(visible_units=784, hidden_units=128, learning_rate=0.01, epochs=10, batch_size=64)\n",
        "rbm.train(X_train)\n",
        "\n",
        "# Extract features from training and test data\n",
        "X_train_features = rbm.transform(X_train)\n",
        "X_test_features = rbm.transform(X_test)"
      ]
    },
    {
      "cell_type": "code",
      "source": [
        "# Train a Logistic Regression model on extracted features\n",
        "clf = LogisticRegression(max_iter=1000)\n",
        "clf.fit(X_train_features, y_train)\n",
        "\n",
        "# Make predictions\n",
        "y_pred = clf.predict(X_test_features)\n",
        "\n",
        "# Evaluate accuracy\n",
        "accuracy = accuracy_score(y_test, y_pred)\n",
        "print(f\"Classification Accuracy: {accuracy:.4f}\")\n"
      ],
      "metadata": {
        "colab": {
          "base_uri": "https://localhost:8080/"
        },
        "id": "yFC-fpfaW0Gw",
        "outputId": "ec10ca47-98bd-4c18-e915-c6626f1e77d7"
      },
      "execution_count": 2,
      "outputs": [
        {
          "output_type": "stream",
          "name": "stdout",
          "text": [
            "Classification Accuracy: 0.1143\n"
          ]
        }
      ]
    },
    {
      "cell_type": "code",
      "source": [
        "# Visualize first 16 feature detectors (weights)\n",
        "fig, axes = plt.subplots(4, 4, figsize=(5, 5))\n",
        "for i, ax in enumerate(axes.flat):\n",
        "    ax.imshow(rbm.weights.numpy()[:, i].reshape(28, 28), cmap='gray')\n",
        "    ax.axis('off')\n",
        "\n",
        "plt.suptitle(\"RBM Learned Features\")\n",
        "plt.show()\n"
      ],
      "metadata": {
        "colab": {
          "base_uri": "https://localhost:8080/",
          "height": 472
        },
        "id": "f1MsRXlnW19P",
        "outputId": "7d05f8d5-f715-4129-bd32-4ffccd6c2501"
      },
      "execution_count": 3,
      "outputs": [
        {
          "output_type": "display_data",
          "data": {
            "text/plain": [
              "<Figure size 500x500 with 16 Axes>"
            ],
            "image/png": "[encoded data removed]"
          },
          "metadata": {}
        }
      ]
    },
    {
      "cell_type": "markdown",
      "source": [
        "**Implementation of Stacked RBM**"
      ],
      "metadata": {
        "id": "xByP4JEeWNHg"
      }
    },
    {
      "cell_type": "code",
      "source": [
        "import numpy as np\n",
        "\n",
        "class RBM:\n",
        "    def __init__(self, visible_units, hidden_units, learning_rate=0.1, epochs=500):\n",
        "        self.visible_units = visible_units\n",
        "        self.hidden_units = hidden_units\n",
        "        self.learning_rate = learning_rate\n",
        "        self.epochs = epochs\n",
        "\n",
        "        # Initialize weights and biases\n",
        "        self.weights = np.random.normal(0, 0.01, (self.visible_units, self.hidden_units))\n",
        "        self.hidden_bias = np.zeros((1, self.hidden_units))\n",
        "        self.visible_bias = np.zeros((1, self.visible_units))\n",
        "\n",
        "    def sigmoid(self, x):\n",
        "        return 1 / (1 + np.exp(-x))\n",
        "\n",
        "    def sample(self, probabilities):\n",
        "        return (np.random.rand(*probabilities.shape) < probabilities).astype(np.float32)\n",
        "\n",
        "    def train(self, data):\n",
        "        for epoch in range(self.epochs):\n",
        "            # Positive phase\n",
        "            pos_hidden_probs = self.sigmoid(np.dot(data, self.weights) + self.hidden_bias)\n",
        "            pos_hidden_states = self.sample(pos_hidden_probs)\n",
        "            pos_associations = np.dot(data.T, pos_hidden_probs)\n",
        "\n",
        "            # Negative phase\n",
        "            neg_visible_probs = self.sigmoid(np.dot(pos_hidden_states, self.weights.T) + self.visible_bias)\n",
        "            neg_visible_states = self.sample(neg_visible_probs)\n",
        "            neg_hidden_probs = self.sigmoid(np.dot(neg_visible_states, self.weights) + self.hidden_bias)\n",
        "            neg_associations = np.dot(neg_visible_states.T, neg_hidden_probs)\n",
        "\n",
        "            # Update weights and biases\n",
        "            self.weights += self.learning_rate * ((pos_associations - neg_associations) / data.shape[0])\n",
        "            self.visible_bias += self.learning_rate * np.mean(data - neg_visible_states, axis=0, keepdims=True)\n",
        "            self.hidden_bias += self.learning_rate * np.mean(pos_hidden_probs - neg_hidden_probs, axis=0, keepdims=True)\n",
        "\n",
        "            if epoch % 100 == 0:\n",
        "                error = np.mean((data - neg_visible_states) ** 2)\n",
        "                print(f\"Epoch {epoch}: Reconstruction Error = {error:.4f}\")\n",
        "\n",
        "    def transform(self, data):\n",
        "        return self.sigmoid(np.dot(data, self.weights) + self.hidden_bias)\n",
        "\n",
        "\n",
        "class StackedRBM:\n",
        "    def __init__(self, layer_sizes, learning_rate=0.1, epochs=500):\n",
        "        self.layer_sizes = layer_sizes\n",
        "        self.rbms = []\n",
        "        self.learning_rate = learning_rate\n",
        "        self.epochs = epochs\n",
        "\n",
        "        # Initialize each RBM in the stack\n",
        "        for i in range(len(layer_sizes) - 1):\n",
        "            self.rbms.append(RBM(layer_sizes[i], layer_sizes[i + 1], learning_rate, epochs))\n",
        "\n",
        "    def pretrain(self, data):\n",
        "        layer_input = data\n",
        "        for i, rbm in enumerate(self.rbms):\n",
        "            print(f\"\\nTraining RBM Layer {i + 1}: {rbm.visible_units} -> {rbm.hidden_units}\")\n",
        "            rbm.train(layer_input)\n",
        "            layer_input = rbm.transform(layer_input)  # Pass transformed data to the next layer\n",
        "\n",
        "    def transform(self, data):\n",
        "        for rbm in self.rbms:\n",
        "            data = rbm.transform(data)\n",
        "        return data\n",
        "\n",
        "\n",
        "# Example Usage\n",
        "if __name__ == \"__main__\":\n",
        "    # Generate dummy data: 10 samples, 8 features\n",
        "    data = np.random.randint(0, 2, (10, 8)).astype(np.float32)\n",
        "\n",
        "    # Define stacked RBM architecture: 8 -> 6 -> 4 hidden units\n",
        "    srmb = StackedRBM(layer_sizes=[8, 6, 4], learning_rate=0.1, epochs=500)\n",
        "\n",
        "    # Pretrain the stacked RBM\n",
        "    srmb.pretrain(data)\n",
        "\n",
        "    print(\"\\nFinal Transformed Data:\")\n",
        "    print(srmb.transform(data))\n"
      ],
      "metadata": {
        "colab": {
          "base_uri": "https://localhost:8080/"
        },
        "id": "AHHDWNr2WTb_",
        "outputId": "7860100e-67da-4f9c-97ae-f3717540159b"
      },
      "execution_count": 5,
      "outputs": [
        {
          "output_type": "stream",
          "name": "stdout",
          "text": [
            "\n",
            "Training RBM Layer 1: 8 -> 6\n",
            "Epoch 0: Reconstruction Error = 0.5125\n",
            "Epoch 100: Reconstruction Error = 0.5375\n",
            "Epoch 200: Reconstruction Error = 0.6000\n",
            "Epoch 300: Reconstruction Error = 0.4625\n",
            "Epoch 400: Reconstruction Error = 0.4500\n",
            "\n",
            "Training RBM Layer 2: 6 -> 4\n",
            "Epoch 0: Reconstruction Error = 0.2725\n",
            "Epoch 100: Reconstruction Error = 0.2675\n",
            "Epoch 200: Reconstruction Error = 0.2782\n",
            "Epoch 300: Reconstruction Error = 0.3110\n",
            "Epoch 400: Reconstruction Error = 0.2951\n",
            "\n",
            "Final Transformed Data:\n",
            "[[0.49820654 0.49848738 0.49855734 0.49874819]\n",
            " [0.51535009 0.51631715 0.51600802 0.51676375]\n",
            " [0.49411806 0.49423012 0.49442964 0.49448911]\n",
            " [0.50426403 0.50480535 0.50478594 0.50519793]\n",
            " [0.50985984 0.51061733 0.51048567 0.51107679]\n",
            " [0.50132473 0.50172869 0.5017783  0.5020732 ]\n",
            " [0.51914091 0.52026332 0.51988972 0.52077927]\n",
            " [0.51005128 0.51080861 0.51063101 0.51121464]\n",
            " [0.51668747 0.51770733 0.5173928  0.51819912]\n",
            " [0.52013247 0.5213002  0.52088905 0.52180933]]\n"
          ]
        }
      ]
    }
  ]
}